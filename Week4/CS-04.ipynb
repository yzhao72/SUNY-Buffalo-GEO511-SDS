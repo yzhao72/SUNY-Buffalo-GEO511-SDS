{
 "cells": [
  {
   "cell_type": "code",
   "execution_count": 1,
   "metadata": {
    "vscode": {
     "languageId": "r"
    }
   },
   "outputs": [
    {
     "name": "stderr",
     "output_type": "stream",
     "text": [
      "── \u001b[1mAttaching packages\u001b[22m ─────────────────────────────────────── tidyverse 1.3.2 ──\n",
      "\u001b[32m✔\u001b[39m \u001b[34mggplot2\u001b[39m 3.3.6     \u001b[32m✔\u001b[39m \u001b[34mpurrr  \u001b[39m 0.3.4\n",
      "\u001b[32m✔\u001b[39m \u001b[34mtibble \u001b[39m 3.1.8     \u001b[32m✔\u001b[39m \u001b[34mdplyr  \u001b[39m 1.0.9\n",
      "\u001b[32m✔\u001b[39m \u001b[34mtidyr  \u001b[39m 1.2.0     \u001b[32m✔\u001b[39m \u001b[34mstringr\u001b[39m 1.4.1\n",
      "\u001b[32m✔\u001b[39m \u001b[34mreadr  \u001b[39m 2.1.2     \u001b[32m✔\u001b[39m \u001b[34mforcats\u001b[39m 0.5.2\n",
      "── \u001b[1mConflicts\u001b[22m ────────────────────────────────────────── tidyverse_conflicts() ──\n",
      "\u001b[31m✖\u001b[39m \u001b[34mdplyr\u001b[39m::\u001b[32mfilter()\u001b[39m masks \u001b[34mstats\u001b[39m::filter()\n",
      "\u001b[31m✖\u001b[39m \u001b[34mdplyr\u001b[39m::\u001b[32mlag()\u001b[39m    masks \u001b[34mstats\u001b[39m::lag()\n"
     ]
    }
   ],
   "source": [
    "library(tidyverse)\n",
    "library(nycflights13)"
   ]
  },
  {
   "cell_type": "code",
   "execution_count": 4,
   "metadata": {
    "vscode": {
     "languageId": "r"
    }
   },
   "outputs": [
    {
     "data": {
      "text/html": [
       "<table class=\"dataframe\">\n",
       "<caption>A tibble: 1 × 12</caption>\n",
       "<thead>\n",
       "\t<tr><th scope=col>tailnum</th><th scope=col>flight</th><th scope=col>origin</th><th scope=col>dest</th><th scope=col>distance</th><th scope=col>name</th><th scope=col>lat</th><th scope=col>lon</th><th scope=col>alt</th><th scope=col>tz</th><th scope=col>dst</th><th scope=col>tzone</th></tr>\n",
       "\t<tr><th scope=col>&lt;chr&gt;</th><th scope=col>&lt;int&gt;</th><th scope=col>&lt;chr&gt;</th><th scope=col>&lt;chr&gt;</th><th scope=col>&lt;dbl&gt;</th><th scope=col>&lt;chr&gt;</th><th scope=col>&lt;dbl&gt;</th><th scope=col>&lt;dbl&gt;</th><th scope=col>&lt;dbl&gt;</th><th scope=col>&lt;dbl&gt;</th><th scope=col>&lt;chr&gt;</th><th scope=col>&lt;chr&gt;</th></tr>\n",
       "</thead>\n",
       "<tbody>\n",
       "\t<tr><td>N380HA</td><td>51</td><td>JFK</td><td>HNL</td><td>4983</td><td>Honolulu Intl</td><td>21.31868</td><td>-157.9224</td><td>13</td><td>-10</td><td>N</td><td>Pacific/Honolulu</td></tr>\n",
       "</tbody>\n",
       "</table>\n"
      ],
      "text/latex": [
       "A tibble: 1 × 12\n",
       "\\begin{tabular}{llllllllllll}\n",
       " tailnum & flight & origin & dest & distance & name & lat & lon & alt & tz & dst & tzone\\\\\n",
       " <chr> & <int> & <chr> & <chr> & <dbl> & <chr> & <dbl> & <dbl> & <dbl> & <dbl> & <chr> & <chr>\\\\\n",
       "\\hline\n",
       "\t N380HA & 51 & JFK & HNL & 4983 & Honolulu Intl & 21.31868 & -157.9224 & 13 & -10 & N & Pacific/Honolulu\\\\\n",
       "\\end{tabular}\n"
      ],
      "text/markdown": [
       "\n",
       "A tibble: 1 × 12\n",
       "\n",
       "| tailnum &lt;chr&gt; | flight &lt;int&gt; | origin &lt;chr&gt; | dest &lt;chr&gt; | distance &lt;dbl&gt; | name &lt;chr&gt; | lat &lt;dbl&gt; | lon &lt;dbl&gt; | alt &lt;dbl&gt; | tz &lt;dbl&gt; | dst &lt;chr&gt; | tzone &lt;chr&gt; |\n",
       "|---|---|---|---|---|---|---|---|---|---|---|---|\n",
       "| N380HA | 51 | JFK | HNL | 4983 | Honolulu Intl | 21.31868 | -157.9224 | 13 | -10 | N | Pacific/Honolulu |\n",
       "\n"
      ],
      "text/plain": [
       "  tailnum flight origin dest distance name          lat      lon       alt tz \n",
       "1 N380HA  51     JFK    HNL  4983     Honolulu Intl 21.31868 -157.9224 13  -10\n",
       "  dst tzone           \n",
       "1 N   Pacific/Honolulu"
      ]
     },
     "metadata": {},
     "output_type": "display_data"
    }
   ],
   "source": [
    "df_sub = flights %>% \n",
    "  dplyr::select(tailnum, flight, origin, dest, distance) %>% # 只选择需要的列 \n",
    "  unique() %>% # 删除重复的列\n",
    "  arrange(desc(distance)) %>% # 安排距离 \n",
    "  slice(1) %>%  # 获得最远距离 \n",
    "  left_join(., airports, c(\"dest\" = \"faa\")) # 加入 airpots 以查找完整的 airpot 名称\n",
    "\n",
    "df_sub"
   ]
  },
  {
   "cell_type": "code",
   "execution_count": 5,
   "metadata": {
    "vscode": {
     "languageId": "r"
    }
   },
   "outputs": [
    {
     "data": {
      "text/html": [
       "'Honolulu Intl'"
      ],
      "text/latex": [
       "'Honolulu Intl'"
      ],
      "text/markdown": [
       "'Honolulu Intl'"
      ],
      "text/plain": [
       "[1] \"Honolulu Intl\""
      ]
     },
     "metadata": {},
     "output_type": "display_data"
    }
   ],
   "source": [
    "farthest_airport = df_sub %>% pull(name)\n",
    "farthest_airport"
   ]
  }
 ],
 "metadata": {
  "kernelspec": {
   "display_name": "R",
   "language": "R",
   "name": "ir"
  },
  "language_info": {
   "codemirror_mode": "r",
   "file_extension": ".r",
   "mimetype": "text/x-r-source",
   "name": "R",
   "pygments_lexer": "r",
   "version": "4.2.1"
  },
  "orig_nbformat": 4,
  "vscode": {
   "interpreter": {
    "hash": "369f2c481f4da34e4445cda3fffd2e751bd1c4d706f27375911949ba6bb62e1c"
   }
  }
 },
 "nbformat": 4,
 "nbformat_minor": 2
}
