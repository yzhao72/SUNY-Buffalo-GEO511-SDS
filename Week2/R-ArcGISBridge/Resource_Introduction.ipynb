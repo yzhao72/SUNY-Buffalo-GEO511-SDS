{
 "cells": [
  {
   "cell_type": "markdown",
   "metadata": {},
   "source": [
    "<img src=\"https://r.esri.com/img/connect.png\" alt=\"A\">"
   ]
  },
  {
   "cell_type": "code",
   "execution_count": 4,
   "metadata": {
    "vscode": {
     "languageId": "r"
    }
   },
   "outputs": [
    {
     "data": {
      "text/html": [
       "<dl>\n",
       "\t<dt>$license</dt>\n",
       "\t\t<dd>'Advanced'</dd>\n",
       "\t<dt>$version</dt>\n",
       "\t\t<dd>'13.0.1.36056'</dd>\n",
       "\t<dt>$path</dt>\n",
       "\t\t<dd>'C:\\\\Program Files\\\\ArcGIS\\\\Pro\\\\'</dd>\n",
       "\t<dt>$dll</dt>\n",
       "\t\t<dd>'rarcproxy_pro'</dd>\n",
       "\t<dt>$app</dt>\n",
       "\t\t<dd>'ArcGIS Pro'</dd>\n",
       "\t<dt>$pkg_ver</dt>\n",
       "\t\t<dd>'1.0.1.300'</dd>\n",
       "</dl>\n"
      ],
      "text/latex": [
       "\\begin{description}\n",
       "\\item[\\$license] 'Advanced'\n",
       "\\item[\\$version] '13.0.1.36056'\n",
       "\\item[\\$path] 'C:\\textbackslash{}\\textbackslash{}Program Files\\textbackslash{}\\textbackslash{}ArcGIS\\textbackslash{}\\textbackslash{}Pro\\textbackslash{}\\textbackslash{}'\n",
       "\\item[\\$dll] 'rarcproxy\\_pro'\n",
       "\\item[\\$app] 'ArcGIS Pro'\n",
       "\\item[\\$pkg\\_ver] '1.0.1.300'\n",
       "\\end{description}\n"
      ],
      "text/markdown": [
       "$license\n",
       ":   'Advanced'\n",
       "$version\n",
       ":   '13.0.1.36056'\n",
       "$path\n",
       ":   'C:\\\\Program Files\\\\ArcGIS\\\\Pro\\\\'\n",
       "$dll\n",
       ":   'rarcproxy_pro'\n",
       "$app\n",
       ":   'ArcGIS Pro'\n",
       "$pkg_ver\n",
       ":   '1.0.1.300'\n",
       "\n",
       "\n"
      ],
      "text/plain": [
       "product: ArcGIS Pro (13.0.1.36056)\n",
       "license: Advanced\n",
       "version: 1.0.1.300 "
      ]
     },
     "metadata": {},
     "output_type": "display_data"
    },
    {
     "name": "stdout",
     "output_type": "stream",
     "text": [
      "[1] 37.849\n"
     ]
    }
   ],
   "source": [
    "library(arcgisbinding)\n",
    "arc.check_product()\n",
    "dataset <- arc.open(path = \"Y:\\\\GitHubTB\\\\GEOClass\\\\SUNY-Buffalo-GEO511-SDS\\\\Week2\\\\R-ArcGISBridge\\\\crashes_per_mile.shp\")\n",
    "filtered.df <- arc.select(dataset, fields=c('RouteNm','C_MI'), where_clause=\"RouteNm= 'I-15' AND FC_NAME = 'Urban Interstate'\")\n",
    "crash.mean <- mean(filtered.df$C_MI)\n",
    "print(crash.mean)"
   ]
  }
 ],
 "metadata": {
  "kernelspec": {
   "display_name": "R",
   "language": "R",
   "name": "ir"
  },
  "language_info": {
   "codemirror_mode": "r",
   "file_extension": ".r",
   "mimetype": "text/x-r-source",
   "name": "R",
   "pygments_lexer": "r",
   "version": "4.2.1"
  },
  "orig_nbformat": 4
 },
 "nbformat": 4,
 "nbformat_minor": 2
}
