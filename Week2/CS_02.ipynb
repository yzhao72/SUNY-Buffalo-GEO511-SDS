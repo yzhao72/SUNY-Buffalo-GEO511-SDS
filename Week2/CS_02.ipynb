{
 "cells": [
  {
   "cell_type": "code",
   "execution_count": 4,
   "metadata": {
    "vscode": {
     "languageId": "r"
    }
   },
   "outputs": [
    {
     "name": "stderr",
     "output_type": "stream",
     "text": [
      "── \u001b[1mAttaching packages\u001b[22m ─────────────────────────────────────── tidyverse 1.3.2 ──\n",
      "\u001b[32m✔\u001b[39m \u001b[34mggplot2\u001b[39m 3.3.6     \u001b[32m✔\u001b[39m \u001b[34mpurrr  \u001b[39m 0.3.4\n",
      "\u001b[32m✔\u001b[39m \u001b[34mtibble \u001b[39m 3.1.8     \u001b[32m✔\u001b[39m \u001b[34mdplyr  \u001b[39m 1.0.9\n",
      "\u001b[32m✔\u001b[39m \u001b[34mtidyr  \u001b[39m 1.2.0     \u001b[32m✔\u001b[39m \u001b[34mstringr\u001b[39m 1.4.1\n",
      "\u001b[32m✔\u001b[39m \u001b[34mreadr  \u001b[39m 2.1.2     \u001b[32m✔\u001b[39m \u001b[34mforcats\u001b[39m 0.5.2\n",
      "── \u001b[1mConflicts\u001b[22m ────────────────────────────────────────── tidyverse_conflicts() ──\n",
      "\u001b[31m✖\u001b[39m \u001b[34mdplyr\u001b[39m::\u001b[32mfilter()\u001b[39m masks \u001b[34mstats\u001b[39m::filter()\n",
      "\u001b[31m✖\u001b[39m \u001b[34mdplyr\u001b[39m::\u001b[32mlag()\u001b[39m    masks \u001b[34mstats\u001b[39m::lag()\n"
     ]
    }
   ],
   "source": [
    "library(tidyverse)\n",
    "# define the link to the data - you can try this in your browser too.  Note that the URL ends in .txt.\n",
    "dataurl=\"https://data.giss.nasa.gov/tmp/gistemp/STATIONS/tmp_USW00014733_14_0_1/station.txt\""
   ]
  },
  {
   "cell_type": "code",
   "execution_count": 5,
   "metadata": {
    "vscode": {
     "languageId": "r"
    }
   },
   "outputs": [
    {
     "data": {
      "text/plain": [
       "Response [https://data.giss.nasa.gov/cgi-bin/gistemp/stdata_show_v4.cgi?id=USW00014733&ds=14&dt=1]\n",
       "  Date: 2022-09-05 00:38\n",
       "  Status: 200\n",
       "  Content-Type: text/html\n",
       "  Size: 50.2 kB\n",
       "\n",
       "<!DOCTYPE HTML><html lang=\"en\">\n",
       "\n",
       "<head>\n",
       "<meta http-equiv=\"X-UA-Compatible\" content=\"IE=edge;\"/>\n",
       "<meta http-equiv=\"Content-Type\" content=\"text/html;charset=utf-8\" />\n",
       "<link rel=\"stylesheet\" type=\"text/css\" href=\"https://www.giss.nasa.gov/css/cs...\n",
       "<title>Data.GISS: \n",
       "GISS Surface Temperature Analysis (v4)\n",
       "</title>\n",
       "..."
      ]
     },
     "metadata": {},
     "output_type": "display_data"
    }
   ],
   "source": [
    "#the next line tells the NASA site to create the temporary file\n",
    "httr::GET(\"https://data.giss.nasa.gov/cgi-bin/gistemp/stdata_show_v4.cgi?id=USW00014733&ds=14&dt=1\")"
   ]
  },
  {
   "cell_type": "code",
   "execution_count": 6,
   "metadata": {
    "vscode": {
     "languageId": "r"
    }
   },
   "outputs": [
    {
     "name": "stderr",
     "output_type": "stream",
     "text": [
      "\n",
      "\u001b[36m──\u001b[39m \u001b[1mColumn specification\u001b[22m \u001b[36m────────────────────────────────────────────────────────\u001b[39m\n",
      "cols(\n",
      "  YEAR = \u001b[32mcol_double()\u001b[39m,\n",
      "  JAN = \u001b[32mcol_double()\u001b[39m,\n",
      "  FEB = \u001b[32mcol_double()\u001b[39m,\n",
      "  MAR = \u001b[32mcol_double()\u001b[39m,\n",
      "  APR = \u001b[32mcol_double()\u001b[39m,\n",
      "  MAY = \u001b[32mcol_double()\u001b[39m,\n",
      "  JUN = \u001b[32mcol_double()\u001b[39m,\n",
      "  JUL = \u001b[32mcol_double()\u001b[39m,\n",
      "  AUG = \u001b[32mcol_double()\u001b[39m,\n",
      "  SEP = \u001b[32mcol_double()\u001b[39m,\n",
      "  OCT = \u001b[32mcol_double()\u001b[39m,\n",
      "  NOV = \u001b[32mcol_double()\u001b[39m,\n",
      "  DEC = \u001b[32mcol_double()\u001b[39m,\n",
      "  DJF = \u001b[32mcol_double()\u001b[39m,\n",
      "  MAM = \u001b[32mcol_double()\u001b[39m,\n",
      "  JJA = \u001b[32mcol_double()\u001b[39m,\n",
      "  SON = \u001b[32mcol_double()\u001b[39m,\n",
      "  metANN = \u001b[32mcol_double()\u001b[39m\n",
      ")\n",
      "\n"
     ]
    }
   ],
   "source": [
    "# the next lines download the data\n",
    "temp=read_table(dataurl,\n",
    "              skip=3, #skip the first line which has column names\n",
    "              na=\"999.90\", # tell R that 999.90 means missing in this dataset\n",
    "              col_names = c(\"YEAR\",\"JAN\",\"FEB\",\"MAR\", # define column names \n",
    "                            \"APR\",\"MAY\",\"JUN\",\"JUL\",  \n",
    "                            \"AUG\",\"SEP\",\"OCT\",\"NOV\",  \n",
    "                            \"DEC\",\"DJF\",\"MAM\",\"JJA\",  \n",
    "                            \"SON\",\"metANN\"))\n",
    "# renaming is necessary becuase they used dashes (\"-\")\n",
    "# in the column names and R doesn't like that."
   ]
  },
  {
   "cell_type": "code",
   "execution_count": 5,
   "metadata": {
    "vscode": {
     "languageId": "r"
    }
   },
   "outputs": [
    {
     "data": {
      "text/html": [
       "<table class=\"dataframe\">\n",
       "<caption>A tibble: 6 × 18</caption>\n",
       "<thead>\n",
       "\t<tr><th scope=col>YEAR</th><th scope=col>JAN</th><th scope=col>FEB</th><th scope=col>MAR</th><th scope=col>APR</th><th scope=col>MAY</th><th scope=col>JUN</th><th scope=col>JUL</th><th scope=col>AUG</th><th scope=col>SEP</th><th scope=col>OCT</th><th scope=col>NOV</th><th scope=col>DEC</th><th scope=col>DJF</th><th scope=col>MAM</th><th scope=col>JJA</th><th scope=col>SON</th><th scope=col>metANN</th></tr>\n",
       "\t<tr><th scope=col>&lt;dbl&gt;</th><th scope=col>&lt;dbl&gt;</th><th scope=col>&lt;dbl&gt;</th><th scope=col>&lt;dbl&gt;</th><th scope=col>&lt;dbl&gt;</th><th scope=col>&lt;dbl&gt;</th><th scope=col>&lt;dbl&gt;</th><th scope=col>&lt;dbl&gt;</th><th scope=col>&lt;dbl&gt;</th><th scope=col>&lt;dbl&gt;</th><th scope=col>&lt;dbl&gt;</th><th scope=col>&lt;dbl&gt;</th><th scope=col>&lt;dbl&gt;</th><th scope=col>&lt;dbl&gt;</th><th scope=col>&lt;dbl&gt;</th><th scope=col>&lt;dbl&gt;</th><th scope=col>&lt;dbl&gt;</th><th scope=col>&lt;dbl&gt;</th></tr>\n",
       "</thead>\n",
       "<tbody>\n",
       "\t<tr><td>1883</td><td>   NA</td><td>    NA</td><td>   NA</td><td>  NA</td><td>   NA</td><td>   NA</td><td>   NA</td><td>   NA</td><td>   NA</td><td>   NA</td><td>5.76</td><td> 0.29</td><td>   NA</td><td>  NA</td><td>   NA</td><td>   NA</td><td>  NA</td></tr>\n",
       "\t<tr><td>1884</td><td>-8.55</td><td> -3.13</td><td>-1.67</td><td>4.15</td><td>11.32</td><td>19.08</td><td>18.35</td><td>19.77</td><td>18.32</td><td>10.74</td><td>2.86</td><td>-1.62</td><td>-3.80</td><td>4.60</td><td>19.07</td><td>10.64</td><td>7.63</td></tr>\n",
       "\t<tr><td>1885</td><td>-6.86</td><td>-10.24</td><td>-6.83</td><td>4.39</td><td>11.91</td><td>15.86</td><td>20.98</td><td>18.11</td><td>15.31</td><td> 9.63</td><td>4.45</td><td>-0.96</td><td>-6.24</td><td>3.16</td><td>18.32</td><td> 9.80</td><td>6.26</td></tr>\n",
       "\t<tr><td>1886</td><td>-5.81</td><td> -4.83</td><td>-0.34</td><td>8.04</td><td>11.76</td><td>17.22</td><td>19.84</td><td>19.30</td><td>17.01</td><td>10.88</td><td>2.90</td><td>-4.63</td><td>-3.87</td><td>6.49</td><td>18.79</td><td>10.26</td><td>7.92</td></tr>\n",
       "\t<tr><td>1887</td><td>-5.87</td><td> -3.60</td><td>-2.39</td><td>4.42</td><td>17.21</td><td>19.52</td><td>24.43</td><td>20.46</td><td>15.36</td><td> 9.03</td><td>3.70</td><td>-0.37</td><td>-4.70</td><td>6.41</td><td>21.47</td><td> 9.36</td><td>8.14</td></tr>\n",
       "\t<tr><td>1888</td><td>-7.66</td><td> -4.34</td><td>-3.13</td><td>4.14</td><td>12.56</td><td>18.67</td><td>20.49</td><td>20.36</td><td>15.36</td><td> 7.58</td><td>4.90</td><td>-0.43</td><td>-4.12</td><td>4.52</td><td>19.84</td><td> 9.28</td><td>7.38</td></tr>\n",
       "</tbody>\n",
       "</table>\n"
      ],
      "text/latex": [
       "A tibble: 6 × 18\n",
       "\\begin{tabular}{llllllllllllllllll}\n",
       " YEAR & JAN & FEB & MAR & APR & MAY & JUN & JUL & AUG & SEP & OCT & NOV & DEC & DJF & MAM & JJA & SON & metANN\\\\\n",
       " <dbl> & <dbl> & <dbl> & <dbl> & <dbl> & <dbl> & <dbl> & <dbl> & <dbl> & <dbl> & <dbl> & <dbl> & <dbl> & <dbl> & <dbl> & <dbl> & <dbl> & <dbl>\\\\\n",
       "\\hline\n",
       "\t 1883 &    NA &     NA &    NA &   NA &    NA &    NA &    NA &    NA &    NA &    NA & 5.76 &  0.29 &    NA &   NA &    NA &    NA &   NA\\\\\n",
       "\t 1884 & -8.55 &  -3.13 & -1.67 & 4.15 & 11.32 & 19.08 & 18.35 & 19.77 & 18.32 & 10.74 & 2.86 & -1.62 & -3.80 & 4.60 & 19.07 & 10.64 & 7.63\\\\\n",
       "\t 1885 & -6.86 & -10.24 & -6.83 & 4.39 & 11.91 & 15.86 & 20.98 & 18.11 & 15.31 &  9.63 & 4.45 & -0.96 & -6.24 & 3.16 & 18.32 &  9.80 & 6.26\\\\\n",
       "\t 1886 & -5.81 &  -4.83 & -0.34 & 8.04 & 11.76 & 17.22 & 19.84 & 19.30 & 17.01 & 10.88 & 2.90 & -4.63 & -3.87 & 6.49 & 18.79 & 10.26 & 7.92\\\\\n",
       "\t 1887 & -5.87 &  -3.60 & -2.39 & 4.42 & 17.21 & 19.52 & 24.43 & 20.46 & 15.36 &  9.03 & 3.70 & -0.37 & -4.70 & 6.41 & 21.47 &  9.36 & 8.14\\\\\n",
       "\t 1888 & -7.66 &  -4.34 & -3.13 & 4.14 & 12.56 & 18.67 & 20.49 & 20.36 & 15.36 &  7.58 & 4.90 & -0.43 & -4.12 & 4.52 & 19.84 &  9.28 & 7.38\\\\\n",
       "\\end{tabular}\n"
      ],
      "text/markdown": [
       "\n",
       "A tibble: 6 × 18\n",
       "\n",
       "| YEAR &lt;dbl&gt; | JAN &lt;dbl&gt; | FEB &lt;dbl&gt; | MAR &lt;dbl&gt; | APR &lt;dbl&gt; | MAY &lt;dbl&gt; | JUN &lt;dbl&gt; | JUL &lt;dbl&gt; | AUG &lt;dbl&gt; | SEP &lt;dbl&gt; | OCT &lt;dbl&gt; | NOV &lt;dbl&gt; | DEC &lt;dbl&gt; | DJF &lt;dbl&gt; | MAM &lt;dbl&gt; | JJA &lt;dbl&gt; | SON &lt;dbl&gt; | metANN &lt;dbl&gt; |\n",
       "|---|---|---|---|---|---|---|---|---|---|---|---|---|---|---|---|---|---|\n",
       "| 1883 |    NA |     NA |    NA |   NA |    NA |    NA |    NA |    NA |    NA |    NA | 5.76 |  0.29 |    NA |   NA |    NA |    NA |   NA |\n",
       "| 1884 | -8.55 |  -3.13 | -1.67 | 4.15 | 11.32 | 19.08 | 18.35 | 19.77 | 18.32 | 10.74 | 2.86 | -1.62 | -3.80 | 4.60 | 19.07 | 10.64 | 7.63 |\n",
       "| 1885 | -6.86 | -10.24 | -6.83 | 4.39 | 11.91 | 15.86 | 20.98 | 18.11 | 15.31 |  9.63 | 4.45 | -0.96 | -6.24 | 3.16 | 18.32 |  9.80 | 6.26 |\n",
       "| 1886 | -5.81 |  -4.83 | -0.34 | 8.04 | 11.76 | 17.22 | 19.84 | 19.30 | 17.01 | 10.88 | 2.90 | -4.63 | -3.87 | 6.49 | 18.79 | 10.26 | 7.92 |\n",
       "| 1887 | -5.87 |  -3.60 | -2.39 | 4.42 | 17.21 | 19.52 | 24.43 | 20.46 | 15.36 |  9.03 | 3.70 | -0.37 | -4.70 | 6.41 | 21.47 |  9.36 | 8.14 |\n",
       "| 1888 | -7.66 |  -4.34 | -3.13 | 4.14 | 12.56 | 18.67 | 20.49 | 20.36 | 15.36 |  7.58 | 4.90 | -0.43 | -4.12 | 4.52 | 19.84 |  9.28 | 7.38 |\n",
       "\n"
      ],
      "text/plain": [
       "  YEAR JAN   FEB    MAR   APR  MAY   JUN   JUL   AUG   SEP   OCT   NOV  DEC  \n",
       "1 1883    NA     NA    NA   NA    NA    NA    NA    NA    NA    NA 5.76  0.29\n",
       "2 1884 -8.55  -3.13 -1.67 4.15 11.32 19.08 18.35 19.77 18.32 10.74 2.86 -1.62\n",
       "3 1885 -6.86 -10.24 -6.83 4.39 11.91 15.86 20.98 18.11 15.31  9.63 4.45 -0.96\n",
       "4 1886 -5.81  -4.83 -0.34 8.04 11.76 17.22 19.84 19.30 17.01 10.88 2.90 -4.63\n",
       "5 1887 -5.87  -3.60 -2.39 4.42 17.21 19.52 24.43 20.46 15.36  9.03 3.70 -0.37\n",
       "6 1888 -7.66  -4.34 -3.13 4.14 12.56 18.67 20.49 20.36 15.36  7.58 4.90 -0.43\n",
       "  DJF   MAM  JJA   SON   metANN\n",
       "1    NA   NA    NA    NA   NA  \n",
       "2 -3.80 4.60 19.07 10.64 7.63  \n",
       "3 -6.24 3.16 18.32  9.80 6.26  \n",
       "4 -3.87 6.49 18.79 10.26 7.92  \n",
       "5 -4.70 6.41 21.47  9.36 8.14  \n",
       "6 -4.12 4.52 19.84  9.28 7.38  "
      ]
     },
     "metadata": {},
     "output_type": "display_data"
    },
    {
     "ename": "",
     "evalue": "",
     "output_type": "error",
     "traceback": [
      "\u001b[1;31mThe Kernel crashed while executing code in the the current cell or a previous cell. Please review the code in the cell(s) to identify a possible cause of the failure. Click <a href='https://aka.ms/vscodeJupyterKernelCrash'>here</a> for more info. View Jupyter <a href='command:jupyter.viewOutput'>log</a> for further details."
     ]
    }
   ],
   "source": [
    "head(temp)"
   ]
  },
  {
   "cell_type": "code",
   "execution_count": 15,
   "metadata": {
    "vscode": {
     "languageId": "r"
    }
   },
   "outputs": [
    {
     "data": {
      "text/html": [
       "<style>\n",
       ".list-inline {list-style: none; margin:0; padding: 0}\n",
       ".list-inline>li {display: inline-block}\n",
       ".list-inline>li:not(:last-child)::after {content: \"\\00b7\"; padding: 0 .5ex}\n",
       "</style>\n",
       "<ol class=list-inline><li>'tbl_df'</li><li>'tbl'</li><li>'data.frame'</li></ol>\n"
      ],
      "text/latex": [
       "\\begin{enumerate*}\n",
       "\\item 'tbl\\_df'\n",
       "\\item 'tbl'\n",
       "\\item 'data.frame'\n",
       "\\end{enumerate*}\n"
      ],
      "text/markdown": [
       "1. 'tbl_df'\n",
       "2. 'tbl'\n",
       "3. 'data.frame'\n",
       "\n",
       "\n"
      ],
      "text/plain": [
       "[1] \"tbl_df\"     \"tbl\"        \"data.frame\""
      ]
     },
     "metadata": {},
     "output_type": "display_data"
    }
   ],
   "source": [
    "dat = temp[,7:9]\n",
    "years = temp[,1]\n",
    "class(dat)"
   ]
  },
  {
   "cell_type": "code",
   "execution_count": 46,
   "metadata": {
    "vscode": {
     "languageId": "r"
    }
   },
   "outputs": [],
   "source": [
    "row_mean = apply(dat,1,mean)\n",
    "JJA_mean = data.frame(row_mean)\n",
    "JJA_years = cbind(years,JJA_mean)"
   ]
  },
  {
   "cell_type": "code",
   "execution_count": 44,
   "metadata": {
    "vscode": {
     "languageId": "r"
    }
   },
   "outputs": [
    {
     "name": "stderr",
     "output_type": "stream",
     "text": [
      "`geom_smooth()` using method = 'loess' and formula 'y ~ x'\n",
      "\n",
      "Warning message:\n",
      "\"Removed 9 rows containing non-finite values (stat_smooth).\"\n",
      "Warning message:\n",
      "\"Removed 2 row(s) containing missing values (geom_path).\"\n"
     ]
    },
    {
     "data": {
      "image/png": "[encoded data removed]",
      "text/plain": [
       "plot without title"
      ]
     },
     "metadata": {
      "image/png": {
       "height": 420,
       "width": 420
      }
     },
     "output_type": "display_data"
    }
   ],
   "source": [
    "library(ggplot2)\n",
    "\n",
    "ggplot(data = JJA_years, mapping = aes(x = YEAR, y = row_mean, group = 1)) + geom_line() + geom_smooth() + labs(x = \"Year\", y = \"Mean Summer Temperatures (C°)\",\n",
    "       title = \"Mean Summer Temperatures in Buffalo, NY\", #添加主标题\n",
    "       subtitle = \"Summer includes June, July, and August \n",
    "       Data from the Global Historical Climate Network \n",
    "       Blue line is a LOESS smooth\", #添加次标题\n",
    "       caption = \"Data: NASA\",#下备注\n",
    "       tag = \"Fig. 1\") #上备注"
   ]
  },
  {
   "cell_type": "code",
   "execution_count": 45,
   "metadata": {
    "vscode": {
     "languageId": "r"
    }
   },
   "outputs": [
    {
     "name": "stderr",
     "output_type": "stream",
     "text": [
      "`geom_smooth()` using method = 'loess' and formula 'y ~ x'\n",
      "\n",
      "Warning message:\n",
      "\"Removed 9 rows containing non-finite values (stat_smooth).\"\n",
      "Warning message:\n",
      "\"Removed 2 row(s) containing missing values (geom_path).\"\n"
     ]
    }
   ],
   "source": [
    "ggsave(\n",
    "  filename = \"Mean Summer Temperatures in Buffalo.png\", # 保存的文件名称。通过后缀来决定生成什么格式的图片\n",
    "  width = 17,             # 宽\n",
    "  height = 7,            # 高\n",
    "  units = \"in\",          # 单位\n",
    "  dpi = 300              # 分辨率DPI\n",
    ")"
   ]
  }
 ],
 "metadata": {
  "kernelspec": {
   "display_name": "R",
   "language": "R",
   "name": "ir"
  },
  "language_info": {
   "codemirror_mode": "r",
   "file_extension": ".r",
   "mimetype": "text/x-r-source",
   "name": "R",
   "pygments_lexer": "r",
   "version": "4.2.1"
  },
  "orig_nbformat": 4,
  "vscode": {
   "interpreter": {
    "hash": "369f2c481f4da34e4445cda3fffd2e751bd1c4d706f27375911949ba6bb62e1c"
   }
  }
 },
 "nbformat": 4,
 "nbformat_minor": 2
}
